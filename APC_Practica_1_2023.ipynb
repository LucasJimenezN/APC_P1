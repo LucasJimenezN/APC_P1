{
 "cells": [
  {
   "cell_type": "markdown",
   "metadata": {
    "collapsed": false
   },
   "source": [
    "Lucas Jiménez Núñez 1606727\n",
    "Saül Gordillo Garcia 1523209\n",
    "Sergi Sanz Orellana 1599507"
   ]
  },
  {
   "cell_type": "markdown",
   "metadata": {
    "id": "oZMnmdDBCl7F"
   },
   "source": [
    "# Pràctica 1: Resolem un problema de classificacio\n",
    "\n",
    "## Objectius\n",
    "\n",
    "Els objectius d'aquesta pràctica són:\n",
    "\n",
    "* Aplicar els coneixements adquirits sobre classificacio, tecniques d'emplenats de nans i validacio creuada.\n",
    "  \n",
    "* Ser capac de comparar diferents models classificacio\n",
    "\n",
    "* Ser capac de fer busca d'hiperparametres.\n",
    "\n",
    "* Entendre i implamentar la validacio creuada\n",
    "\n",
    "* Analitzar detalladament els resultats obtinguts durant l'aprenentatge dels diferents models.\n",
    "\n",
    "Aquesta practica es previa al cas kaggle que realitzareu durant la segona part de l'assignatura. En aquesta primera practica les preguntes estan definides, pero us ha de servir d'aprenentatge alhora de saber com estructurar un projecte d'aprenentatge automatic ja que en el cas kaggle no tindreu les preguntes.\n",
    "\n",
    "## Bases de dades\n",
    "\n",
    "En aquesta practica farem servir la base de dades del titanic. L'atribut que predirem es Survived, el qual ens diu si va sobreviure o no cada passatger.\n",
    "\n",
    "\n",
    "https://www.kaggle.com/c/titanic/data\n",
    "\n",
    "\n",
    "##Treball en grup\n",
    "Aquesta practica es treballara en grups de 2-3 persones. En casos excepcionals i degudament justificats la practica es podra realitzar de forma individual.\n",
    "## Seguiment i entrega de la pràctica\n",
    "\n",
    "En la pràctica 1, es presenten diverses tasques per fer una correcta comparativa dels resultats obtinguts per diversos mètodes de classificació numèrica en una mateixa base de dades.\n",
    "\n",
    "\n",
    "En aquesta practica es realitzara sessions de seguiment del treball. Aquestes sessions de treball està orientada a que els alumnes que vingueu pugueu preguntar i resoldre dubtes sobre les dades, preguntar sobre l'objectiu de cada apartat dels enunciats que no us hagi quedat clar, i preguntar sobre els resultats que esteu obtenint a l'hora d'analitzar les dades. Es molt recomanable venir amb el treball fet a clase per tal de poder comentar dubtes.\n",
    "\n",
    "Pel que fa l'entrega, caldra entregar per caronte el seguent:\n",
    "\n",
    "1. Memòria en format PDF o en la mateixa notebook explicant els resultats trobats sobre la bases de dades amb el respectiu codi de python. Aquesta nota es la mateixa per tots els membres del grup (9 pts)\n",
    "\n",
    "2. Presentació amb els resultats 4 min màxim. Aquesta nota es individual. (1 pt)\n",
    "\n",
    "Nota: En cas d'entregar la memoria com a PDF, caldra entregar el codi de python a part. Si s'entrega com a notebook, la mateixa notebook servira com a codi.\n",
    "\n"
   ]
  },
  {
   "cell_type": "markdown",
   "metadata": {
    "id": "6zdgsxfuCl7S"
   },
   "source": [
    "# Descripcio de la pràctica\n",
    "\n",
    "A continuacio es mostren tots els continguts que s'evaluara en la pràctica:\n",
    "\n",
    "1. EDA (exploratory data analysis) (1 punts):\n",
    "  * Analisi de tamany i tipologia de dades ( 0.25 pt)\n",
    "  * Primera valoracio de correlacions ( 0.5 pt)\n",
    "  * Analisi atribut target ( 0.25 pt)\n",
    "2. Preprocessing (2 punts):\n",
    "  * Eliminacio de nans (0.5 punts)\n",
    "  * Encoding de categoriques (0.75 punts)\n",
    "  * Altres (PCA, normalitzacio..)\n",
    "3. Metric selection (1.5 punts):\n",
    "  * Seleccio de la millor metrica pel problema (0.75 punts)\n",
    "  * Visualitzacio de ROC/AUC (0.75 punts)\n",
    "4. Model Selection amb Crossvalidation (4 punts):\n",
    "  * Seleccio del millor model (2 punts)\n",
    "  * Busqueda hiperparametres (2 punts)\n",
    "5. Analisi final (1.5 punt)\n",
    "\n",
    "Cal dir que, les puntuacions dins de cada apartat son orientatives. La pràctica esta construida a partir d'un seguit de preguntes orientatives en cada apartat les quals tenen relacio amb els continguts evaluables. **NO cal contestar-les totes**. Són una guia per a que reflexioneu i aprengueu detalls de cada apartat.  Es recomanable, aixo si, llegir totes les preguntes abans de realitzar la practica i tenir-les en ment alhora d'executar-la.\n",
    "\n",
    "\n",
    "**IMPORTANT**: El que es valorara en la practica es la capacitat de mantenir una narrativa coherent alhora que es realitzen els resultats. No es mirara tant que alguna pregunta quedi per respondre sino que els passos seguits en base als resultats obtinguts siguin coherents."
   ]
  },
  {
   "cell_type": "code",
   "execution_count": 1,
   "metadata": {
    "ExecuteTime": {
     "end_time": "2023-11-08T15:56:00.823142Z",
     "start_time": "2023-11-08T15:56:00.731829Z"
    }
   },
   "outputs": [],
   "source": [
    "### Imports\n",
    "import pandas as pd\n",
    "import numpy as np\n",
    "from sklearn import preprocessing"
   ]
  },
  {
   "cell_type": "markdown",
   "metadata": {
    "id": "fuENGdYFCl7S"
   },
   "source": [
    "### 1. EDA (exploratory data analysis) (1 punt)\n",
    "\n",
    "Abans de res cal sempre veure com es la base de dades asignada?\n",
    "\n",
    "**Preguntes:**\n",
    "* Quants atributs té la vostra base de dades?\n",
    "* Quin tipus d'atributs tens? (Númerics, temporals, categorics, binaris...)\n",
    "* Com es el target, quantes categories diferents existeixen?\n",
    "* Tenim nans en les dades?\n",
    "* Podeu veure alguna correlació entre X i y?\n",
    "* Estan balancejades les etiquetes (distribució similar entre categories)? Creus que pot afectar a la classificació la seva distribució?\n"
   ]
  },
  {
   "cell_type": "markdown",
   "metadata": {},
   "source": [
    "### Anàlisi de dades"
   ]
  },
  {
   "cell_type": "code",
   "execution_count": 2,
   "metadata": {
    "ExecuteTime": {
     "end_time": "2023-11-08T15:56:00.835523Z",
     "start_time": "2023-11-08T15:56:00.822834Z"
    }
   },
   "outputs": [
    {
     "name": "stdout",
     "output_type": "stream",
     "text": [
      "Nuestra base de datos tiene 12 atributos.\n"
     ]
    }
   ],
   "source": [
    "# Llegim la base de dades\n",
    "df = pd.read_csv('train.csv')\n",
    "\n",
    "# Obtenim el numero d'atributs\n",
    "num_atr = df.shape[1]\n",
    "\n",
    "# Veiem quants atributs te el nostre csv\n",
    "print(f\"Nuestra base de datos tiene {num_atr} atributos.\")"
   ]
  },
  {
   "cell_type": "markdown",
   "metadata": {},
   "source": [
    "Vemos pues que nuestra base de datos dispone de 12 atributos, que tienen los siguientes nombres:"
   ]
  },
  {
   "cell_type": "code",
   "execution_count": 3,
   "metadata": {
    "ExecuteTime": {
     "end_time": "2023-11-08T15:56:00.839167Z",
     "start_time": "2023-11-08T15:56:00.834224Z"
    }
   },
   "outputs": [
    {
     "name": "stdout",
     "output_type": "stream",
     "text": [
      "Los nombres de los atributos son: \n",
      "PassengerId\n",
      "Survived\n",
      "Pclass\n",
      "Name\n",
      "Sex\n",
      "Age\n",
      "SibSp\n",
      "Parch\n",
      "Ticket\n",
      "Fare\n",
      "Cabin\n",
      "Embarked\n"
     ]
    }
   ],
   "source": [
    "atributos = df.columns.tolist()\n",
    "\n",
    "print(f\"Los nombres de los atributos son: \")\n",
    "for nombre in atributos:\n",
    "    print(nombre)"
   ]
  },
  {
   "cell_type": "markdown",
   "metadata": {},
   "source": [
    "Ahora nos interesa saber el tipo de datos que guardan estos atributos"
   ]
  },
  {
   "cell_type": "code",
   "execution_count": 4,
   "metadata": {
    "ExecuteTime": {
     "end_time": "2023-11-08T15:56:00.841845Z",
     "start_time": "2023-11-08T15:56:00.838001Z"
    }
   },
   "outputs": [
    {
     "name": "stdout",
     "output_type": "stream",
     "text": [
      "Els tipus de dades dels atributs son:\n",
      "PassengerId      int64\n",
      "Survived         int64\n",
      "Pclass           int64\n",
      "Name            object\n",
      "Sex             object\n",
      "Age            float64\n",
      "SibSp            int64\n",
      "Parch            int64\n",
      "Ticket          object\n",
      "Fare           float64\n",
      "Cabin           object\n",
      "Embarked        object\n",
      "dtype: object.\n"
     ]
    }
   ],
   "source": [
    "atr_type = df.dtypes\n",
    "\n",
    "print(f\"Els tipus de dades dels atributs son:\\n{atr_type}.\")"
   ]
  },
  {
   "cell_type": "markdown",
   "metadata": {},
   "source": [
    "Ahora nos interesa saber cómo es el target y cuántas categorías diferentes existen:\n",
    "Después de ver la base de datos, podemos deducir que nuestro target a analizar es la columna \"Survived\", la cual dispone de dos categorias, que nos indica si el pasajero sobrevivió (1) o no (0)."
   ]
  },
  {
   "cell_type": "code",
   "execution_count": 5,
   "metadata": {
    "ExecuteTime": {
     "end_time": "2023-11-08T15:56:00.917925Z",
     "start_time": "2023-11-08T15:56:00.843276Z"
    }
   },
   "outputs": [
    {
     "name": "stdout",
     "output_type": "stream",
     "text": [
      "El numero de categorias que tiene el atributo 'Survived' es de: 2\n"
     ]
    }
   ],
   "source": [
    "num_categories_survived = df['Survived'].nunique()\n",
    "\n",
    "print(f\"El numero de categorias que tiene el atributo 'Survived' es de: {num_categories_survived}\")"
   ]
  },
  {
   "cell_type": "markdown",
   "metadata": {},
   "source": [
    "Ejecutando el código python anterior, vemos que nuestra deducción de posibles valores categoricos es correcto, y son 2."
   ]
  },
  {
   "cell_type": "markdown",
   "metadata": {},
   "source": [
    "Ahora debemos determinar si nuestra base de datos tiene o no nans, esto lo haríamos de la siguiente manera:"
   ]
  },
  {
   "cell_type": "code",
   "execution_count": 6,
   "metadata": {
    "ExecuteTime": {
     "end_time": "2023-11-08T15:56:00.918294Z",
     "start_time": "2023-11-08T15:56:00.847561Z"
    }
   },
   "outputs": [
    {
     "name": "stdout",
     "output_type": "stream",
     "text": [
      "La base de datos tiene nans.\n"
     ]
    }
   ],
   "source": [
    "df_nans = df.isna().any().any()\n",
    "\n",
    "if df_nans:\n",
    "    print(f\"La base de datos tiene nans.\")\n",
    "else:\n",
    "    print(f\"La base de datos no tiene nans.\")"
   ]
  },
  {
   "cell_type": "markdown",
   "metadata": {},
   "source": [
    "Ahora debemos ver si existe alguna correlación entre X e Y a la hora de determinar el atributo \"Survived\"."
   ]
  },
  {
   "cell_type": "code",
   "execution_count": 7,
   "metadata": {
    "ExecuteTime": {
     "end_time": "2023-11-08T15:56:00.920065Z",
     "start_time": "2023-11-08T15:56:00.855629Z"
    }
   },
   "outputs": [],
   "source": [
    "# Replicamos la base de datos eliminando las columnas que no nos interesan.\n",
    "dataset_corr = df.copy()\n",
    "useless_columns = []\n",
    "\n",
    "for f in dataset_corr:\n",
    "    if f == 'Name' or f == 'Ticket' or f == 'Cabin' or f == 'PassengerId':\n",
    "        useless_columns.append(f)\n",
    "\n",
    "dataset_corr.drop(useless_columns, axis='columns', inplace=True)"
   ]
  },
  {
   "cell_type": "markdown",
   "metadata": {},
   "source": [
    "Eliminamos las columnas Name , Ticket y Cabin por los motivos que especificamos a continuación:\n",
    "- Name: La eliminamos puesto que es un indicador del nombre del pasajero y no es relevante.\n",
    "- Ticket: La eliminamos puesto que es un indicador del ticket del pasajero y no es relevante.\n",
    "- Cabin: La eliminamos puesto que es un indicador de la cabina de cada pasajero y tampoco es relevante.\n"
   ]
  },
  {
   "cell_type": "code",
   "execution_count": 8,
   "metadata": {
    "ExecuteTime": {
     "end_time": "2023-11-08T15:56:00.939772Z",
     "start_time": "2023-11-08T15:56:00.859062Z"
    }
   },
   "outputs": [],
   "source": [
    "# Convertimos los valores de sex a 0 y 1. ( codificación one-hot )\n",
    "df_encoded = pd.get_dummies(dataset_corr, columns=['Sex'], drop_first=True)\n",
    "\n",
    "# Convertimos los valores de Embarked.\n",
    "df_encoded = pd.get_dummies(df_encoded, columns=['Embarked'], drop_first=False)"
   ]
  },
  {
   "cell_type": "markdown",
   "metadata": {},
   "source": [
    "El codigo de arriba en primer lugar, eliminar la columna 'Sex', creando una llamada 'Sex_male', la cual es 1 si el usuario es hombre y 0 si mujer, de esta manera podremos calcular la correlación con 'Survived'. En segundo lugar, hemos eliminado la columna 'Embarked', creando tres columnas nuevas, llamadas: 'Embarked_C', 'Embarked_Q' y 'Embarked_S', donde el valor es True si en la columna original 'Embarked' este valor era C, Q o S dependiendo de la nueva columna, en caso contrario el valor es False."
   ]
  },
  {
   "cell_type": "code",
   "execution_count": 9,
   "metadata": {
    "ExecuteTime": {
     "end_time": "2023-11-08T15:56:00.940724Z",
     "start_time": "2023-11-08T15:56:00.865709Z"
    }
   },
   "outputs": [
    {
     "name": "stdout",
     "output_type": "stream",
     "text": [
      "     Survived  Pclass   Age  SibSp  Parch     Fare  Sex_male  Embarked_C  \\\n",
      "0           0       3  22.0      1      0   7.2500      True       False   \n",
      "1           1       1  38.0      1      0  71.2833     False        True   \n",
      "2           1       3  26.0      0      0   7.9250     False       False   \n",
      "3           1       1  35.0      1      0  53.1000     False       False   \n",
      "4           0       3  35.0      0      0   8.0500      True       False   \n",
      "..        ...     ...   ...    ...    ...      ...       ...         ...   \n",
      "886         0       2  27.0      0      0  13.0000      True       False   \n",
      "887         1       1  19.0      0      0  30.0000     False       False   \n",
      "888         0       3   NaN      1      2  23.4500     False       False   \n",
      "889         1       1  26.0      0      0  30.0000      True        True   \n",
      "890         0       3  32.0      0      0   7.7500      True       False   \n",
      "\n",
      "     Embarked_Q  Embarked_S  \n",
      "0         False        True  \n",
      "1         False       False  \n",
      "2         False        True  \n",
      "3         False        True  \n",
      "4         False        True  \n",
      "..          ...         ...  \n",
      "886       False        True  \n",
      "887       False        True  \n",
      "888       False        True  \n",
      "889       False       False  \n",
      "890        True       False  \n",
      "\n",
      "[891 rows x 10 columns]\n"
     ]
    }
   ],
   "source": [
    "print(df_encoded)"
   ]
  },
  {
   "cell_type": "markdown",
   "metadata": {},
   "source": [
    "Una vez hemos hecho las modificaciones pertinentes a nuestra base de datos, ya podemos calcular la correlación con la variable 'Survived'."
   ]
  },
  {
   "cell_type": "code",
   "execution_count": 10,
   "metadata": {
    "ExecuteTime": {
     "end_time": "2023-11-08T15:56:00.941625Z",
     "start_time": "2023-11-08T15:56:00.872260Z"
    }
   },
   "outputs": [
    {
     "name": "stdout",
     "output_type": "stream",
     "text": [
      "{'Pclass': -0.3384810359610148, 'Age': -0.07722109457217755, 'SibSp': -0.035322498885735576, 'Parch': 0.0816294070834836, 'Fare': 0.2573065223849622, 'Sex_male': -0.5433513806577547, 'Embarked_C': 0.16824043121823296, 'Embarked_Q': 0.0036503826839719864, 'Embarked_S': -0.15566027340439323}\n"
     ]
    }
   ],
   "source": [
    "new_names = df_encoded.columns.to_list()\n",
    "\n",
    "corr = {}\n",
    "for name in new_names: \n",
    "    if name == 'Survived':\n",
    "        pass\n",
    "    else:\n",
    "        corr_value = df_encoded['Survived'].corr(df_encoded[name])\n",
    "        corr[name] = corr_value\n",
    "print(corr)"
   ]
  },
  {
   "cell_type": "markdown",
   "metadata": {},
   "source": [
    "Una vez tenemos los resultados pasamos a analizarlos:\n",
    "- Pclass: -0,338\n",
    "    - Esta correlación es negativa y moderadamente fuerte. Indica que a medida de que Pclass disminuye ( lo que significa que el pasajero está en una clase mas alta ) la probabilidad de sobrevivir aumenta.\n",
    "- Age: -0,077\n",
    "    - Esta correlación es negativa y bastante baja. Lo que indica que a medida que la edad del pasajero aumenta, la probabilidad de sobrebirir del pasajero disminuye ligeramente. Pero como lo correlación es bastante baja podemos deducir que este no es un factor determinante.\n",
    "- SibSp: -0.035\n",
    "    - Esta correlación también es negativa y bastante baja. Indica que a medida que el numero de hermanos o cónyuges a bordo aumenta, la probabilidad de sobrevivir disminuye ligeramente. Como la correlación es bastante baja podemos deducir que no es un factor determinante.\n",
    "- Parch: 0,082\n",
    "    - Esta correlación es positiva y bastante baja. Indica que a medida que el numero padres o hijos a bordo aumenta, la posibilidad de sobrevivir aumenta ligeramnete. Como la correlación es bastante baja podemos deducir que no es un factor determinante.\n",
    "- Fare: 0.257\n",
    "    - Esta correlación es positiva y relativamente fuerte. Indica que a medida que el coste del billete aumenta, la posibilidad de sobrevivir aumente moderadamente. Como esta correlación es moderada podemos deducir que puede ser un factor determinante, puesto que los pasageros que havian pagado mas, quizas tenian prioridad a la hora de ser rescatados.\n",
    "- Sex_male: -0,543\n",
    "    - Esta correlación es negativa y fuerte. Indica que a ser del sexo masculino, disminuia drasticamente las posibilidades de sobrevivir, por lo que, las mujeres, tenian prioridad a la hora del rescate. Esta correlación al ser bastante fuerte podemos decir que es un factor determinante de la supervivencia del pasagero.\n",
    "- Embarked_C: 0,168\n",
    "    - Esta correlación es positiva y moderadamente baja. Indica que el puerto de embarque C está asociado a la probabilidad de sobrevivir, pero al ser moderadamente baja, no es un factor determinante.\n",
    "- Embarked_Q: 0,00365\n",
    "    -  Esta correlación es positiva y muy baja. Indica que el puerto de embarque Q no está asociado a la probabilidad de sobrevivir. \n",
    "-  Embarked_S: -0,1557\n",
    "    -  Esta correlación es negativa y moderadamente baja. Indica que el puerto de embarque S está asociado a la probabilidad de sobrevivir, pero al ser baja, no es un factor determinante.\n"
   ]
  },
  {
   "cell_type": "markdown",
   "metadata": {},
   "source": [
    "Una vez hemos analizado la correlación, necesitamos saber si las etiquetas están balanceadas y si puede afectar a la clasificación de su distribución.\n"
   ]
  },
  {
   "cell_type": "code",
   "execution_count": 11,
   "metadata": {
    "ExecuteTime": {
     "end_time": "2023-11-08T15:56:00.942627Z",
     "start_time": "2023-11-08T15:56:00.882392Z"
    }
   },
   "outputs": [
    {
     "name": "stdout",
     "output_type": "stream",
     "text": [
      "Survived\n",
      "0    549\n",
      "1    342\n",
      "Name: count, dtype: int64\n"
     ]
    }
   ],
   "source": [
    "survived_count = df_encoded['Survived'].value_counts()\n",
    "total_inst = len(df_encoded)\n",
    "\n",
    "print(survived_count)"
   ]
  },
  {
   "cell_type": "markdown",
   "metadata": {},
   "source": [
    "Con la ejecución previa, podemos ver que no hay una diferencia muy grande entre los pasajeros que sobrevivieron y los que no, aunque eso si, hay mas pasajeros que no sobrevivieron, por lo que podemos ver que los datos estan un poco desbalanceados.\n",
    "Podemos deducir que la deducción de las etiquetas puede afectar a su clasificación. Puesto que, en nuestro caso como favorecen las instancias de que los pasajeros no sobreviven nuesto modelo puede empezar a favorecer esta clase y no ser tan precisos."
   ]
  },
  {
   "cell_type": "markdown",
   "metadata": {
    "id": "CuLtWQWpCl7T"
   },
   "source": [
    "### 2. Preprocessing (normalitzation, outlier removal, feature selection..) (2 punts)\n",
    "Un cop vistes les dades de les que es disposa, cal preparar les dades per als nostres algoritmes. Segons la tipologia de dades, es poden filtrar atributs, aplicar-hi reductors de dimensionalitat, codificar categories textuals en valors numèrics, normalitzar les dades, treure outliers...\n",
    "\n",
    "Navegueu per la [documentació de sklearn sobre preprocessing](https://scikit-learn.org/stable/modules/preprocessing.html) per tal de trobar les diferents opcions que proporciona sklearn.\n",
    "\n",
    "**Preguntes:**\n",
    "* Estàn les dades normalitzades? Caldria fer-ho?\n",
    "* En cas que les normalitzeu, quin tipus de normalització será més adient per les vostres dades?\n",
    "* Teniu gaires dades sense informació (nans)? Tingueu en compte que hi ha metodes que no els toleren durant el aprenentatge. Com afecta a la classificació si les filtrem? I si les reompliu? Com ho farieu? [Pista](https://scikit-learn.org/stable/modules/impute.html)\n",
    "* Teniu dades categoriques? Quina seria la codificació amb més sentit?\n",
    "* Podreu treure algun atribut extra de les categoriques (per exemple, aplicant alguna regla sobre el text)?\n",
    "* Caldria aplicar PCA? Quins beneficis o inconvenients trobarieu?\n",
    "* Caldria aplicar alguna tecnica de seleccio de features? Ho trobeu necessari?\n",
    "* Es poden aplicar PolynomialFeatures per millorar la classificació? En quins models té sentit fer-ho?"
   ]
  },
  {
   "cell_type": "markdown",
   "metadata": {},
   "source": [
    "#### Pregunta 1\n",
    "**Estàn les dades normalitzades? Caldria fer-ho?**"
   ]
  },
  {
   "cell_type": "markdown",
   "metadata": {},
   "source": [
    "En nuestra base de datos original, los datos no están normalizados, para que los datos estén normalizados, todas las características deberían estar en una escala similar de valores.\n",
    "Esto sirve ya que en nuestro modelo puede tomar como referencia los valores más altos (como 'Age') de diferentes categorías y de esta manera entrenarse de manera errónea."
   ]
  },
  {
   "cell_type": "code",
   "execution_count": 12,
   "metadata": {
    "ExecuteTime": {
     "end_time": "2023-11-08T15:56:00.942764Z",
     "start_time": "2023-11-08T15:56:00.887780Z"
    }
   },
   "outputs": [],
   "source": [
    "### Codigo de normalización ###\n",
    "#df_normal = preprocessing.normalize(df_encoded, norm=\"l1\")\n"
   ]
  },
  {
   "cell_type": "markdown",
   "metadata": {},
   "source": [
    "Este código lo que hace es normalizar nuestra base de datos, peró no se está ejecutando correctamente puesto que nuestra base de datos contiene nans, por lo que a continuación vamos a gestionar los nans y luego normalizaremos nuestra base de datos."
   ]
  },
  {
   "cell_type": "markdown",
   "metadata": {},
   "source": [
    "#### Pregunta 3\n",
    "**Teniu gaires dades sense informació (nans)? Tingueu en compte que hi ha metodes que no els toleren durant el aprenentatge. Com afecta a la classificació si les filtrem? I si les reompliu? Com ho farieu? [Pista](https://scikit-learn.org/stable/modules/impute.html)**"
   ]
  },
  {
   "cell_type": "markdown",
   "metadata": {},
   "source": [
    "Para ver si nuestra base de datos modificada tiene nans ejecutariamos el siguiente código:"
   ]
  },
  {
   "cell_type": "code",
   "execution_count": 13,
   "metadata": {
    "ExecuteTime": {
     "end_time": "2023-11-08T15:56:00.943168Z",
     "start_time": "2023-11-08T15:56:00.890469Z"
    }
   },
   "outputs": [
    {
     "name": "stdout",
     "output_type": "stream",
     "text": [
      "177\n"
     ]
    }
   ],
   "source": [
    "df_encoded_nans = df_encoded.isna().sum().sum()\n",
    "print(df_encoded_nans)"
   ]
  },
  {
   "cell_type": "markdown",
   "metadata": {},
   "source": [
    "Vemos que si tenemos nans en nuestra tabla por lo que ahora vamos a analizarlos des del punto de vista de las filas y de las columnas."
   ]
  },
  {
   "cell_type": "code",
   "execution_count": 14,
   "metadata": {
    "ExecuteTime": {
     "end_time": "2023-11-08T15:56:00.943391Z",
     "start_time": "2023-11-08T15:56:00.896387Z"
    }
   },
   "outputs": [
    {
     "name": "stdout",
     "output_type": "stream",
     "text": [
      "0      0.0\n",
      "1      0.0\n",
      "2      0.0\n",
      "3      0.0\n",
      "4      0.0\n",
      "      ... \n",
      "886    0.0\n",
      "887    0.0\n",
      "888    0.1\n",
      "889    0.0\n",
      "890    0.0\n",
      "Length: 891, dtype: float64\n"
     ]
    }
   ],
   "source": [
    "### Nans por porcentage de filas.\n",
    "percent_nan_row = df_encoded.isna().mean(axis=1)\n",
    "print(percent_nan_row)"
   ]
  },
  {
   "cell_type": "code",
   "execution_count": 15,
   "metadata": {
    "ExecuteTime": {
     "end_time": "2023-11-08T15:56:01.160495Z",
     "start_time": "2023-11-08T15:56:00.900397Z"
    }
   },
   "outputs": [
    {
     "data": {
      "text/plain": "<Figure size 640x480 with 1 Axes>",
      "image/png": "[encoded data removed]"
     },
     "metadata": {},
     "output_type": "display_data"
    }
   ],
   "source": [
    "### Para verlo mejor haremos un histograma\n",
    "import seaborn as sns\n",
    "import matplotlib.pylab as plt\n",
    "\n",
    "plt.hist(percent_nan_row)\n",
    "plt.show()"
   ]
  },
  {
   "cell_type": "code",
   "execution_count": 16,
   "metadata": {
    "ExecuteTime": {
     "end_time": "2023-11-08T15:56:01.161389Z",
     "start_time": "2023-11-08T15:56:01.031367Z"
    }
   },
   "outputs": [
    {
     "name": "stdout",
     "output_type": "stream",
     "text": [
      "Survived       0.00000\n",
      "Pclass         0.00000\n",
      "SibSp          0.00000\n",
      "Parch          0.00000\n",
      "Fare           0.00000\n",
      "Sex_male       0.00000\n",
      "Embarked_C     0.00000\n",
      "Embarked_Q     0.00000\n",
      "Embarked_S     0.00000\n",
      "Age           19.86532\n",
      "dtype: float64\n"
     ]
    }
   ],
   "source": [
    "### Nans por percentage de columna\n",
    "percent_nan_column = df_encoded.isna().sum().sort_values()/len(df_encoded)*100.\n",
    "\n",
    "print(percent_nan_column)"
   ]
  },
  {
   "cell_type": "markdown",
   "metadata": {},
   "source": [
    "Vemos en el print anterior que todos los nans de la tabla se ven ubicados en la columna \"Age\", por lo que tenemos que decidir como vamos a tratar este caso."
   ]
  },
  {
   "cell_type": "code",
   "execution_count": 17,
   "metadata": {
    "ExecuteTime": {
     "end_time": "2023-11-08T15:56:01.243316Z",
     "start_time": "2023-11-08T15:56:01.040538Z"
    }
   },
   "outputs": [
    {
     "name": "stdout",
     "output_type": "stream",
     "text": [
      "     Survived  Pclass        Age  SibSp  Parch     Fare  Sex_male  Embarked_C  \\\n",
      "0         0.0     3.0  22.000000    1.0    0.0   7.2500       1.0         0.0   \n",
      "1         1.0     1.0  38.000000    1.0    0.0  71.2833       0.0         1.0   \n",
      "2         1.0     3.0  26.000000    0.0    0.0   7.9250       0.0         0.0   \n",
      "3         1.0     1.0  35.000000    1.0    0.0  53.1000       0.0         0.0   \n",
      "4         0.0     3.0  35.000000    0.0    0.0   8.0500       1.0         0.0   \n",
      "..        ...     ...        ...    ...    ...      ...       ...         ...   \n",
      "886       0.0     2.0  27.000000    0.0    0.0  13.0000       1.0         0.0   \n",
      "887       1.0     1.0  19.000000    0.0    0.0  30.0000       0.0         0.0   \n",
      "888       0.0     3.0  29.699118    1.0    2.0  23.4500       0.0         0.0   \n",
      "889       1.0     1.0  26.000000    0.0    0.0  30.0000       1.0         1.0   \n",
      "890       0.0     3.0  32.000000    0.0    0.0   7.7500       1.0         0.0   \n",
      "\n",
      "     Embarked_Q  Embarked_S  \n",
      "0           0.0         1.0  \n",
      "1           0.0         0.0  \n",
      "2           0.0         1.0  \n",
      "3           0.0         1.0  \n",
      "4           0.0         1.0  \n",
      "..          ...         ...  \n",
      "886         0.0         1.0  \n",
      "887         0.0         1.0  \n",
      "888         0.0         1.0  \n",
      "889         0.0         0.0  \n",
      "890         1.0         0.0  \n",
      "\n",
      "[891 rows x 10 columns]\n",
      "False\n"
     ]
    }
   ],
   "source": [
    "from sklearn.impute import SimpleImputer\n",
    "\n",
    "imp = SimpleImputer(missing_values=np.NaN ,strategy='mean')\n",
    "df_nans = imp.fit_transform(df_encoded)\n",
    "\n",
    "# Reconstruir DataFrame con los nombres de las columnas\n",
    "df_nans = pd.DataFrame(df_nans, columns=df_encoded.columns)\n",
    "\n",
    "print(df_nans)\n",
    "print(df_nans.isna().sum().sum() > 0)"
   ]
  },
  {
   "cell_type": "markdown",
   "metadata": {},
   "source": [
    "Para solucionar el problema de los nans, hemos usado una tecnica llamada 'Univariate' (univariado), la cual se basa en rellenar los valores nans con una variable predefinida.\n",
    "En nuestro caso hemos rellenado los nans con la media de cada columna, para no poner un valor predefinido que pueda facilitar el entrenamiento de la máquina.\n",
    "Para ver si esta solución es correcta vamos a calcular la correlación de la columna 'Age', que es la que tiene mas Nans, con 'Survived' para ver si la correlación se mantiene o no varia demasiado."
   ]
  },
  {
   "cell_type": "code",
   "execution_count": 18,
   "metadata": {
    "ExecuteTime": {
     "end_time": "2023-11-08T15:56:01.243956Z",
     "start_time": "2023-11-08T15:56:01.214706Z"
    }
   },
   "outputs": [
    {
     "name": "stdout",
     "output_type": "stream",
     "text": [
      "Correlación antes de quitar los nans: -0.07722109457217755 \n",
      "Correlación despues de quitar los nans: -0.06980851528714307\n"
     ]
    }
   ],
   "source": [
    "corr_age_without_nans = df_nans['Survived'].corr(df_nans['Age'])\n",
    "print(f\"Correlación antes de quitar los nans: {corr['Age']} \\nCorrelación despues de quitar los nans: {corr_age_without_nans}\")"
   ]
  },
  {
   "cell_type": "markdown",
   "metadata": {},
   "source": [
    "Vemos que la correlación se mantiene muy parecida por lo que podemos decir que la manera en la que hemos rellenado los nans es correcta."
   ]
  },
  {
   "cell_type": "markdown",
   "metadata": {},
   "source": [
    "Una vez ya no tenemos nans en nuestra base de datos / tabla, podemos aplicar la normalización de los valores de esta como haciamos antes."
   ]
  },
  {
   "cell_type": "code",
   "execution_count": 19,
   "metadata": {
    "ExecuteTime": {
     "end_time": "2023-11-08T15:56:01.244048Z",
     "start_time": "2023-11-08T15:56:01.219226Z"
    }
   },
   "outputs": [],
   "source": [
    "### Función para volver a crear la tabla correctamente.\n",
    "def rebuild_data_frame(df_new, df_original):\n",
    "    return pd.DataFrame(df_new, columns=df_original.columns)\n"
   ]
  },
  {
   "cell_type": "markdown",
   "metadata": {},
   "source": [
    "Los valores que queremos normalizar son los de las columnas: 'Age' y 'Fare', ya que son los mas grandes y los que pueden hacer que confundir a la estadística.\n",
    "La siguiente función se encarga de normalizar las columnas que pasemos por parámetro."
   ]
  },
  {
   "cell_type": "code",
   "execution_count": 20,
   "metadata": {
    "ExecuteTime": {
     "end_time": "2023-11-08T15:56:01.244287Z",
     "start_time": "2023-11-08T15:56:01.225764Z"
    }
   },
   "outputs": [
    {
     "name": "stdout",
     "output_type": "stream",
     "text": [
      "   Survived  Pclass       Age  SibSp  Parch      Fare  Sex_male  Embarked_C  \\\n",
      "0       0.0     3.0  0.271174    1.0    0.0  0.014151       1.0         0.0   \n",
      "1       1.0     1.0  0.472229    1.0    0.0  0.139136       0.0         1.0   \n",
      "2       1.0     3.0  0.321438    0.0    0.0  0.015469       0.0         0.0   \n",
      "3       1.0     1.0  0.434531    1.0    0.0  0.103644       0.0         0.0   \n",
      "4       0.0     3.0  0.434531    0.0    0.0  0.015713       1.0         0.0   \n",
      "\n",
      "   Embarked_Q  Embarked_S  \n",
      "0         0.0         1.0  \n",
      "1         0.0         0.0  \n",
      "2         0.0         1.0  \n",
      "3         0.0         1.0  \n",
      "4         0.0         1.0  \n"
     ]
    }
   ],
   "source": [
    "### Función para normalizar columnas ###\n",
    "def normalize_column(df):\n",
    "    min_max = preprocessing.MinMaxScaler()\n",
    "    normalized_data = min_max.fit_transform(df[['Age', 'Fare']])\n",
    "    df[['Age', 'Fare']] = normalized_data\n",
    "    return df\n",
    "\n",
    "df = normalize_column(df_nans)\n",
    "print(df.head())"
   ]
  },
  {
   "cell_type": "markdown",
   "metadata": {},
   "source": [
    "Como vemos a continuación, ejecutando el codigo anterior, ya hemos normalizado los valores de las columnas 'Age' y 'Fare', haciendo que esten entre los valores 0 y 1."
   ]
  },
  {
   "cell_type": "markdown",
   "metadata": {},
   "source": [
    "#### Pregunta 4\n",
    "**Teniu dades categoriques? Quina seria la codificació amb més sentit?**"
   ]
  },
  {
   "cell_type": "code",
   "execution_count": 21,
   "metadata": {
    "ExecuteTime": {
     "end_time": "2023-11-08T15:56:01.244446Z",
     "start_time": "2023-11-08T15:56:01.230284Z"
    }
   },
   "outputs": [
    {
     "name": "stdout",
     "output_type": "stream",
     "text": [
      "   Survived  Pclass       Age  SibSp  Parch      Fare  Sex_male  Embarked_C  \\\n",
      "0       0.0     3.0  0.271174    1.0    0.0  0.014151       1.0         0.0   \n",
      "1       1.0     1.0  0.472229    1.0    0.0  0.139136       0.0         1.0   \n",
      "2       1.0     3.0  0.321438    0.0    0.0  0.015469       0.0         0.0   \n",
      "3       1.0     1.0  0.434531    1.0    0.0  0.103644       0.0         0.0   \n",
      "4       0.0     3.0  0.434531    0.0    0.0  0.015713       1.0         0.0   \n",
      "\n",
      "   Embarked_Q  Embarked_S  \n",
      "0         0.0         1.0  \n",
      "1         0.0         0.0  \n",
      "2         0.0         1.0  \n",
      "3         0.0         1.0  \n",
      "4         0.0         1.0  \n"
     ]
    }
   ],
   "source": [
    "print(df.head())"
   ]
  },
  {
   "cell_type": "markdown",
   "metadata": {},
   "source": [
    "Como vemos no disponemos de variables categoricas puesto que anteriormente, para calcular la correlación entre las diferentes variables, hemos convertido estas variables categoricas a valores numericos usando una codificación one-hot."
   ]
  },
  {
   "cell_type": "markdown",
   "metadata": {},
   "source": [
    "#### Pregunta 5\n",
    "**Podreu treure algun atribut extra de les categoriques (per exemple, aplicant alguna regla sobre el text)?**"
   ]
  },
  {
   "cell_type": "markdown",
   "metadata": {},
   "source": [
    "Sacar atributos extra de las categorias significa crear nuevas características a partir de los datos existentes. Esto puede ayudar a mejorar el rendimiento del modelo.\n",
    "En nuestro contexto podríamos crear una nueva categoria como 'Rango de Edad', que indique si el usuario es: 'niño', 'adolescente', 'aduto' o 'anciano'. Esto nos interesaría hacerlo con una variable que esté bastante correlacionada con la variable 'Survived' como, 'Fare' y 'Sex_male'.\n",
    "En 'Sex_male' no interesa extrar atributos extra ya que por si sola ya es suficientemente útil. En canvio en 'Fare' nos podría interesar intentar extrar algun atributo extra para mejorar el modelo.\n",
    "\n",
    "Finalmente optamos por no extraer ninguna atributo extra ya que nuestra base de datos al ser suficiente pequeña no es necesario."
   ]
  },
  {
   "cell_type": "markdown",
   "metadata": {},
   "source": [
    "#### Pregunta 6\n",
    "**Caldria aplicar PCA? Quins beneficis o inconvenients trobarieu?**"
   ]
  },
  {
   "cell_type": "markdown",
   "metadata": {},
   "source": [
    "PCA (Principal Component Analysis), es una técnica para analizar grandes conjuntos de datos, que contienen un alto número de dimensiones/características por observación, aumentando la interpretabilidad de los datos al mismo tiempo que se consigue preservar la máxima cantidad de información y permite la visualización de datos multidimensionales."
   ]
  },
  {
   "cell_type": "markdown",
   "metadata": {},
   "source": [
    "El uso de PCA en general ayudaría a:\n",
    "- Reducir la dimensión de nuestros datos.\n",
    "- Reducir la complejidad computacional del modelo haciendo que nuestro modelo se ejecute mas rápido.\n",
    "- Eliminar ruido y comprimir datos."
   ]
  },
  {
   "cell_type": "markdown",
   "metadata": {},
   "source": [
    "Explicamos los beneficios de PCA en general, puesto que en nuestro modelo no es necesario aplicarlo. Esto se debe a que no tenemos un gran número de variables en nuestra tabla y ya disponemos de las variables clave que están relacionadas con nuestra variable objetiva 'Survived'."
   ]
  },
  {
   "cell_type": "markdown",
   "metadata": {},
   "source": [
    "#### Pregunta 7\n",
    "**Caldria aplicar alguna tecnica de seleccio de features? Ho trobeu necessari?**"
   ]
  },
  {
   "cell_type": "markdown",
   "metadata": {},
   "source": [
    "Sabemos que las variables, 'Sex_male' y 'Pclass' son las que tienen una correlación más fuerte con nuestra variable objetivo 'Survived', por lo que a primera vista podríamos pensar que no hace falta aplicar una técnica de selección de features. La contraparte de esta afirmación, es que la correlación solo mide las relaciones lineales entre variables, por lo que es posible que existan relaciones no lineales entre nuestras variables y la variable objetivo. También hay que recalcar que puede ser que exista una combinación de características que nos de más información que estas dos variables solas.\n",
    "\n",
    "Por lo que, una vez que hemos visto esto, podríamos pensar en aplicar, por ejemplo, RFE, eliminación recursiva de características, PCA...\n",
    "\n",
    "Aunque no nos es necesario puesto que disponemos de muy pocas variables y la dificultat de calcular la correlación no lineas es muy elevada para nuestro modelo."
   ]
  },
  {
   "cell_type": "markdown",
   "metadata": {},
   "source": [
    "#### Pregunta 8\n",
    "**Es poden aplicar PolynomialFeatures per millorar la classificació? En quins models té sentit fer-ho?**"
   ]
  },
  {
   "cell_type": "markdown",
   "metadata": {},
   "source": [
    "PolynominalFeatures es útil en modelos lineales cuando los datos no son lineales. Se agregan dimensiones para convertir el problema no lineal en lineal. Por lo que de esta manera conseguimos captar relaciones no lineales.\n",
    "\n",
    "Consideramos que no es necesario, puesto que si lo usaramos aumentariamos en gran medida el numero de variables de nuestro modelo, lo que nos llevaria a un sobreajuste y un mayor tiempo de entrenamiento de nuestro modelo."
   ]
  },
  {
   "cell_type": "markdown",
   "metadata": {
    "id": "axc-wn2rCl7T"
   },
   "source": [
    "### 3. Metric selection (1.5 punts)\n",
    "En aquest apartat ens centrarem en les mètriques de classificació ([documentació](https://scikit-learn.org/stable/modules/model_evaluation.html#classification-metrics)). Per a fer-ho, entreneu una regressio logistica (no cal separar train-test) i a partir d'aquesta generarem una serie de funcions per analitzar els nostres resultats . Aquestes funcions ens serviran mes endevant. Caldra tambe triar la metrica que farem servir despres per triar el millor model.\n",
    "\n",
    "**Preguntes:**\n",
    "* A teoria, hem vist el resultat d'aplicar el `accuracy_score` sobre dades no balancejades. Podrieu explicar i justificar quina de les següents mètriques será la més adient pel vostre problema? `accuracy_score`, `f1_score` o `average_precision_score`?\n",
    "* Abans de comencar a entrenar models, genereu una suite de funcions per poder analitzar graficament com esta anant el vostre model. Mostreu la Precisió-Recall Curve i la ROC Curve. Quina és més rellevant pel vostre dataset? Expliqueu amb les vostres paraules, la diferencia entre una i altre [Pista](https://stats.stackexchange.com/questions/338826/auprc-vs-auc-roc)\n",
    "* Què mostra [classification_report](https://scikit-learn.org/stable/modules/generated/sklearn.metrics.classification_report.html)? Quina métrica us fixareu per tal de optimitzar-ne la classificació pel vostre cas?\n",
    "\n",
    "Nota: Fixeu-vos que en aquest apartat NO ES VALOREN ELS RESULTATS. L'unic que es valora es l'eleccio de la metrica de classificacio aixi com saber quin tipus de grafiques fer per analitzar els resultats. Abans de solucionar un problema cal tenir molt clar la metrica d'error que es fara servir, i es una decisio que cal pendre previa a entrenar models"
   ]
  },
  {
   "cell_type": "markdown",
   "metadata": {
    "collapsed": false
   },
   "source": [
    "Las métricas de clasificacion son medidad que se utilizan para evaluar el rendimiento de un modelos de aprendizaje automático en tareas de clasificación. De estas hay diferentes tipos:\n",
    "* Matriz de confusión.\n",
    "* Accuracy.\n",
    "* Recall.\n",
    "* Curva ROC y AUC."
   ]
  },
  {
   "cell_type": "markdown",
   "metadata": {
    "collapsed": false
   },
   "source": [
    "Accuracy Score:\n",
    "* Esta métrica mide la proporción de predicciones correctas hechas por el modelo sobre el total de predicciones. Es una buena opción si las clases están balanceadas. ( disponemos de la misma cantidad de ejemplos de cada clase )\n",
    "\n",
    "F1 Score:\n",
    "* Esta métrica combina la precisión y el recall en una sola medida. Es útil cuando tenemos un conjunto de datos desbalanceados y nos preocupan los falsos negativos y falsos positivos.\n",
    "\n",
    "Average Precision Score:\n",
    "* Esta métrica resume la curva de precisión-recall, que muestra la precisión del modelo para diferentes ubrales de decisión. Es util si tenemos los datos desbalanceados."
   ]
  },
  {
   "cell_type": "code",
   "execution_count": 22,
   "metadata": {
    "collapsed": false,
    "ExecuteTime": {
     "end_time": "2023-11-08T15:56:01.246372Z",
     "start_time": "2023-11-08T15:56:01.232055Z"
    }
   },
   "outputs": [
    {
     "name": "stdout",
     "output_type": "stream",
     "text": [
      "Survived\n",
      "0    549\n",
      "1    342\n",
      "Name: count, dtype: int64\n"
     ]
    }
   ],
   "source": [
    "print(survived_count)"
   ]
  },
  {
   "cell_type": "markdown",
   "metadata": {
    "collapsed": false
   },
   "source": [
    "Vemos que nuestros datos están ligeramente desbalanceados y nos interesa tratar los falsos negativos y positivos, por lo que nos interesa usar las métricas:\n",
    "* F1 Score."
   ]
  },
  {
   "cell_type": "code",
   "execution_count": 23,
   "metadata": {
    "ExecuteTime": {
     "end_time": "2023-11-08T15:56:01.513990Z",
     "start_time": "2023-11-08T15:56:01.238959Z"
    }
   },
   "outputs": [
    {
     "data": {
      "text/plain": "<Figure size 640x480 with 1 Axes>",
      "image/png": "[encoded data removed]"
     },
     "metadata": {},
     "output_type": "display_data"
    },
    {
     "data": {
      "text/plain": "<Figure size 640x480 with 1 Axes>",
      "image/png": "[encoded data removed]"
     },
     "metadata": {},
     "output_type": "display_data"
    }
   ],
   "source": [
    "from sklearn.linear_model import LogisticRegression\n",
    "from sklearn.metrics import classification_report\n",
    "import matplotlib.pyplot as plt\n",
    "from sklearn.metrics import PrecisionRecallDisplay\n",
    "from sklearn.metrics import RocCurveDisplay\n",
    "\n",
    "X = df.drop('Survived', axis=1)\n",
    "y = df['Survived']\n",
    "\n",
    "# Entrenem la regressió logística\n",
    "model = LogisticRegression(max_iter=1000)\n",
    "model.fit(X, y)\n",
    "\n",
    "# Prediccions\n",
    "y_pred = model.predict(X)\n",
    "\n",
    "# Curva de Precisió-Recall\n",
    "def plot_precision_recall_from_predictions(model, X, y):\n",
    "    y_score = model.predict_proba(X)[:, 1]\n",
    "    disp = PrecisionRecallDisplay.from_predictions(y, y_score)\n",
    "    disp.ax_.set_title('Curva de Precisión-Recall predictions')\n",
    "    plt.show()\n",
    "\n",
    "# Curva ROC\n",
    "def plot_roc_curve_from_predictions(model, X, y):\n",
    "    y_score = model.predict_proba(X)[:, 1]\n",
    "    disp = RocCurveDisplay.from_predictions(y, y_score)\n",
    "    disp.ax_.set_title('Curva ROC predictions')\n",
    "    plt.show()\n",
    "plot_precision_recall_from_predictions(model, X, y)\n",
    "plot_roc_curve_from_predictions(model, X, y)\n"
   ]
  },
  {
   "cell_type": "markdown",
   "metadata": {
    "collapsed": false
   },
   "source": [
    "A la hora de escoger una de las dos curvas, tenemos primero que entenderlas.\n",
    "Estas curvas sirven para evaular el rendimiento de clasificadores binarios. Las dos curvas nos indican la relación entre precisión y sensibilidad de nuestro modelo.\n",
    "\n",
    "La curva ROC, dibuja la Tasa de Verdaderos Positivos (TPR) frente a la Tasa de Falsos Positivos (FPR) a varios umbrales de clasificación. En esta curva entonces, cuando más convexa sea la curva ROC en la parte superior izquierda, mejor será el efecto.\n",
    "\n",
    "La curva PR, traza la Precisión frente al Recall (TPR). En esta curva el mejor ejecto se consigue en la parte superior derecha.\n",
    "\n",
    "La principal diferencia entre la curva ROC y la curva PR, es que la curva PR puede ser mas útil en problemas prácticos, donde nuestra clase \"objetivo\" sea \"positiva\", es decir, que nos interesa mas los valores positivos, 1 -> Sobrevive, que negativos, 0 -> No Sobrevive. Además, la curva PR trabaja mejor cuando los datos son asimetricos, como es nuestro caso.\n",
    "\n",
    "Entonces, podemos observar que la curva que mejor se ajusta a nuestro caso es la curva PR (Precision-Recall)\n"
   ]
  },
  {
   "cell_type": "code",
   "execution_count": 24,
   "metadata": {
    "collapsed": false,
    "ExecuteTime": {
     "end_time": "2023-11-08T15:56:01.581341Z",
     "start_time": "2023-11-08T15:56:01.508044Z"
    }
   },
   "outputs": [
    {
     "name": "stdout",
     "output_type": "stream",
     "text": [
      "              precision    recall  f1-score   support\n",
      "\n",
      "         0.0       0.82      0.86      0.84       549\n",
      "         1.0       0.76      0.70      0.73       342\n",
      "\n",
      "    accuracy                           0.80       891\n",
      "   macro avg       0.79      0.78      0.79       891\n",
      "weighted avg       0.80      0.80      0.80       891\n"
     ]
    }
   ],
   "source": [
    "### Ex 3\n",
    "# Anàlisi de resultats\n",
    "report = classification_report(y, y_pred)\n",
    "print(report)"
   ]
  },
  {
   "cell_type": "markdown",
   "metadata": {
    "collapsed": false
   },
   "source": [
    "Como hemos comentado anteriormente, inicalmente pensamos que nos interesaba usar la metrica f1-score, ya que nos preocupan los falsos positivos, los negativos y también tenemos los datos desbalanceados.\n",
    "Con el report podemos ver que las mejores opciones son, la precisión, y la metrica f1-score, que es un conjunto de precisión i recall, però, como nosotros tenemos los datos desbalanceados, optamos por la metrica que habiamos escogido inicialmente, f1-score. "
   ]
  },
  {
   "cell_type": "markdown",
   "metadata": {
    "id": "t8xe5r78Cl7T"
   },
   "source": [
    "### 4. Model Selection amb validacio creuada (4 punts)\n",
    "\n",
    "Fent servir la metrica trobada en l'apartat anterior, en aquest apartat caldra seleccionar una serie de models i, fent us de la validacio creuada, seleccionar el millor model amb els seus respectius millors hyperparametres que haurem buscat fent hyperparameter search.\n",
    "\n",
    "La tasca d'aquesta pràctica s'enmarca dins l'aprenentatge computacional **supervisat**. A sklearn, disposem de varies tècniques [(veure documentació)](https://scikit-learn.org/stable/supervised_learning.html). A les classes de teoria, hem vist varies tècniques, com ara logistic regression, SVM amb diferents kernels, Nearest Neighbour... i tambe coneixeu altres tecniques d'altres cursos, com els arbres de decisio. Ademes, en la classe de problemes hem donat tambe els random forest i els gradient boosting. Per aquest apartat es demana seleccionar **un minim de 4 models** (per exemple, regressio logistica, random forest, KNN, SVM).\n",
    "\n",
    "**Preguntes:**\n",
    "* Quins models heu considerat? Perque els heu seleccionat?\n",
    "* Fent servir validacio creuada, escolliu el millor model (agafant els hiperparamtres per defecte). Recordeu fer servir la metrica utilitzada en l'apartat anterior. Perque es important fer servir validacio creuada? Heu de fer servir algun [tipus de validacio creuada](https://scikit-learn.org/stable/modules/cross_validation.html) en especial?\n",
    "\n",
    "* Seleccioneu una serie d'hyperparametres a provar per cadascun dels models i realitzeu una cerca d'hyperparametres. Hi ha algun model que creieu que podeu descartar de primeres? Perque?\n",
    "\n",
    "* Mostreu els resultats en una taula on es mostri el model, els experiments realitzats i els resultats obtinguts (tant en train com en test). Podeu mostrar tambe el temps d'entrenament de cada model.\n",
    "\n",
    "* Quin tipus de K-fold heu escollit en la seleccio de models? I en la seleccio de models amb hyperparametres? Com afecta al resultat modificar el numero de k (numero de folds) al resultat?\n",
    "\n",
    "* Quines formes de buscar el millor parametre heu trobat? Són costoses computacionalment parlant? [documentació](https://scikit-learn.org/stable/modules/grid_search.html) Quina heu seleccionat?\n",
    "\n",
    "* Si disposem de recursos limitats (per exemple, un PC durant 1 hora) quin dels métodes creieu que obtindrà millor resultat final?\n",
    "\n",
    "* Existeixen altres mètodes de búsqueda més eficients ([scikit-optimize](https://scikit-optimize.github.io/stable/))?\n",
    "\n",
    "* Opcional : Feu la prova, i amb el model i el metode de crossvalidació escollit, configureu els diferents metodes de búsqueda per a que s'executin durant el mateix temps (i.e. depenent del problema, 0,5h-1 hora). Analitzeu quin ha arribat a una millor solució. (Ajuda: estimeu el temps que trigarà a fer 1 training el vostre model, i aixi trobeu el número de intents que podeu fer en cada cas.)\n"
   ]
  },
  {
   "cell_type": "markdown",
   "metadata": {
    "collapsed": false
   },
   "source": [
    "**Quins models heu considerat? Perque els heu seleccionat?**\n",
    "Hemos escogido los modelos: Regresión Logística, Random Forest, KNN y SVM.\n",
    "Hemos escogido cada un por las ventajas que nos aportan:\n",
    "* Regresión Logística:\n",
    "    * Es un algoritmo simple y eficiente que nos permite manejar variables numericas y categoricas. Proporcionándonos probabilidades de los resultados a obtener que pueden ser utiles a la toma de decisiones.  \n",
    "* Random Forest:\n",
    "    * Es uno de los algoritmos de aprendizaje mas precisos que existen. Aunque funciona mejor cuanto mas grande sea nuestro conjunto de datos, trabajar con este algoritmo nos permitirá probar este modelo bastante preciso.\n",
    "* KNN (K-Nearest Neighbors): \n",
    "    * Es un algoritmo sencillo que no requiere de demasiado entrenamiento. Es un algoritmo de aprendizaje supervisado y simple que se utiliza para resolver problemas de clasificación y regresión.\n",
    "* SVM (Support Vector Machine):\n",
    "    * Es un conjunto de algoritmos de aprendizaje supervisados que se centran en los problemas de clasificación y regresión."
   ]
  },
  {
   "cell_type": "markdown",
   "metadata": {
    "collapsed": false
   },
   "source": [
    "En nuestro modelo estamos usando la metrica \"F1-score\".\n",
    "Es importante usar la valización curzada puesto que nos permite estimar como funciona el modelo en datos no vistos y nos ayuda a evitar el sobreajuste. Tras dividimos los datos en subconjuntos, entrenarlos y probar el modelo con diferentes combinaciones de subconjuntos, podemos obtener una mejor idea de como se desempeñan nuestros modelos con datos nuevos y no vistos. "
   ]
  },
  {
   "cell_type": "code",
   "execution_count": null,
   "metadata": {
    "collapsed": false,
    "is_executing": true,
    "ExecuteTime": {
     "start_time": "2023-11-08T15:56:01.523296Z"
    }
   },
   "outputs": [],
   "source": [
    "from sklearn.linear_model import LogisticRegression\n",
    "from sklearn.ensemble import RandomForestClassifier\n",
    "from sklearn.neighbors import KNeighborsClassifier\n",
    "from sklearn.svm import SVC\n",
    "from sklearn.model_selection import cross_val_score\n",
    "import time\n",
    "\n",
    "# Definimos los modelos con los hiperparámetros por defecto\n",
    "default_models = [\n",
    "    ('Logistic Regression', LogisticRegression(max_iter=1000)),\n",
    "    ('Random Forest', RandomForestClassifier()),\n",
    "    ('KNN', KNeighborsClassifier()),\n",
    "    ('SVM', SVC(probability=True))\n",
    "]\n",
    "\n",
    "scores_default = {}\n",
    "times_default = {}\n",
    "\n",
    "# Para cada modelo, realizamos validación cruzada y calculamos la métrica F1-Score\n",
    "for name, model in default_models:\n",
    "    start = time.time()\n",
    "    scores = cross_val_score(model, X, y, cv=10, scoring='f1')\n",
    "    scores_default[name] = scores.mean()\n",
    "    end = time.time()\n",
    "    times_default[name] = end - start\n",
    "\n",
    "# Creamos gráfico de barras para los puntajes F1-Score\n",
    "plt.figure(figsize=(10, 5))\n",
    "plt.bar(scores_default.keys(), scores_default.values(), color='b')\n",
    "plt.title('Puntajes F1 para diferentes modelos')\n",
    "plt.ylabel('Puntaje F1')\n",
    "plt.show()\n",
    "\n",
    "# Creamos gráfico de barras para los tiempos de ejecución\n",
    "plt.figure(figsize=(10, 5))\n",
    "plt.bar(times_default.keys(), times_default.values(), color='r')\n",
    "plt.title('Tiempo de ejecución para diferentes modelos')\n",
    "plt.ylabel('Tiempo (s)')\n",
    "plt.show()"
   ]
  },
  {
   "cell_type": "markdown",
   "metadata": {
    "collapsed": false
   },
   "source": [
    "Este código nos define cada uno de nuestros modelos de aprendizaje con los hiperparámetros por defecto. Lugo para cada modelo, realizamos una validación cruzada con 10 pliegues ( dividimos los datos en 10 subconjuntos ) y calculamos la métrica F1 Score.\n",
    "Hemos usado un tipo de validación cruzada especial llamado K-Fold, en el cual el conjunto de entrenamiento se divide en K conjuntos más pequeños. En nuestro caso hemos escoguido 10, puesto que es el valor más comunmente usado. En esta validación cruzada, estamos dividiendo nuestros datos en 10 subconjuntos de observaciones, y luego, para cada iteración entrenamos el modelo en 9 pliegues ( el 90% de los datos ) y lo probamos en el pliegue restante ( 10% restante de los datos ).\n",
    "Como vemos los puntuajes F1 son todos muy parecidos, pero el tiempo que tardan en ser ejecutados con los hiperparametros por defecto vemos una gran diferencia, siendo Random Forest el que mas tarda, seguido de SVM. Logistic Regression i KNN estan casi a la par en tiempo de ejecución."
   ]
  },
  {
   "cell_type": "code",
   "execution_count": null,
   "metadata": {
    "collapsed": false,
    "is_executing": true
   },
   "outputs": [],
   "source": [
    "from sklearn.model_selection import GridSearchCV\n",
    "\n",
    "# Definimos los modelos y los valores de los hiperparámetros que queremos probar\n",
    "models = [\n",
    "    ('Logistic Regression', LogisticRegression(max_iter=1000), {'C': [0.001, 0.01, 0.1, 1, 10, 100, 1000]}),\n",
    "    ('Random Forest', RandomForestClassifier(), {'n_estimators': [10, 50, 100, 200], 'max_depth': [None, 10, 20, 30], 'min_samples_split': [2, 5, 10]}),\n",
    "    ('KNN', KNeighborsClassifier(), {'n_neighbors': [3, 5, 10, 20]}),\n",
    "    ('SVM', SVC(probability=True), {'C': [0.001, 0.01, 0.1, 1, 10, 100, 1000], 'gamma': ['scale', 'auto']})\n",
    "]\n",
    "\n",
    "times_mod = {}\n",
    "\n",
    "# Para cada modelo, realizamos una búsqueda en cuadrícula y calcula la métrica F1-Score\n",
    "for name, model, params in models:\n",
    "    start = time.time()\n",
    "    grid_search = GridSearchCV(model, params, cv=10, scoring='f1')\n",
    "    grid_search.fit(X, y)\n",
    "    print(f'{name}:\\nMejores hiperparámetros: {grid_search.best_params_}, Mejor puntuación: {grid_search.best_score_}')\n",
    "    end = time.time()\n",
    "    times_mod[name] = end - start\n",
    "\n",
    "for x in times_mod:\n",
    "    print(f\"Tiempo de {x}: {times_mod[x]}\")\n"
   ]
  },
  {
   "cell_type": "code",
   "execution_count": null,
   "metadata": {
    "is_executing": true
   },
   "outputs": [],
   "source": [
    "from sklearn.model_selection import KFold, ParameterGrid\n",
    "from sklearn.metrics import f1_score\n",
    "import time\n",
    "\n",
    "# Definimos los modelos y los valores de los hiperparámetros que queremos probar\n",
    "models = [\n",
    "    ('Logistic Regression', LogisticRegression(max_iter=1000), {'C': [0.001, 0.01, 0.1, 1, 10, 100, 1000]}),\n",
    "    ('Random Forest', RandomForestClassifier(), {'n_estimators': [10, 50, 100, 200], 'max_depth': [None, 10, 20, 30], 'min_samples_split': [2, 5, 10]}),\n",
    "    ('KNN', KNeighborsClassifier(), {'n_neighbors': [3, 5, 10, 20]}),\n",
    "    ('SVM', SVC(probability=True), {'C': [0.001, 0.01, 0.1, 1, 10, 100, 1000], 'gamma': ['scale', 'auto']})\n",
    "]\n",
    "\n",
    "results = []\n",
    "\n",
    "# Definimos el número de folds para la validación cruzada\n",
    "k = 5\n",
    "kf = KFold(n_splits=k)\n",
    "\n",
    "# Para cada modelo, realizamos una búsqueda en cuadrícula y calculamos la métrica F1-Score\n",
    "for name, model, params in models:\n",
    "    for param_set in ParameterGrid(params):\n",
    "        model.set_params(**param_set)\n",
    "        start = time.time()\n",
    "        scores = []\n",
    "        for train_index, test_index in kf.split(X):\n",
    "            X_train, X_test = X.iloc[train_index], X.iloc[test_index]\n",
    "            y_train, y_test = y.iloc[train_index], y.iloc[test_index]\n",
    "            model.fit(X_train, y_train)\n",
    "            y_pred = model.predict(X_test)\n",
    "            scores.append(f1_score(y_test, y_pred))\n",
    "        end = time.time()\n",
    "        results.append({\n",
    "            'Model': name,\n",
    "            'Hyperparameters': param_set,\n",
    "            'Average Score': sum(scores) / len(scores),\n",
    "            'Training Time': end - start\n",
    "        })\n",
    "\n",
    "# Mostramos los resultados en una tabla\n",
    "results_df = pd.DataFrame(results)\n",
    "print(results_df)\n",
    "\n",
    "# Para mostrar todas las columnas\n",
    "pd.set_option('display.max_columns', None)\n",
    "# Para aumentar el ancho máximo de las columnas\n",
    "pd.set_option('display.max_colwidth', None)\n",
    "\n",
    "# Obtén las mejores puntuaciones\n",
    "best_scores = results_df.nlargest(5, 'Average Score')\n",
    "print(\"Las 5 mejores puntuaciones:\")\n",
    "print(best_scores)\n",
    "\n",
    "# Obtén los tiempos de entrenamiento más rápidos\n",
    "fastest_times = results_df.nsmallest(5, 'Training Time')\n",
    "print(\"\\nLos 5 tiempos de entrenamiento más rápidos:\")\n",
    "print(fastest_times)\n"
   ]
  },
  {
   "cell_type": "code",
   "execution_count": null,
   "metadata": {
    "collapsed": false,
    "is_executing": true
   },
   "outputs": [],
   "source": [
    "# Definimos los modelos y los valores de los hiperparámetros que queremos probar\n",
    "models = [\n",
    "    ('Logistic Regression', LogisticRegression(max_iter=1000), {'C': [0.001, 0.01, 0.1, 1, 10, 100, 1000]}),\n",
    "    ('Random Forest', RandomForestClassifier(), {'n_estimators': [10, 50, 100, 200], 'max_depth': [None, 10, 20, 30], 'min_samples_split': [2, 5, 10]}),\n",
    "    ('KNN', KNeighborsClassifier(), {'n_neighbors': [3, 5, 10, 20]}),\n",
    "    ('SVM', SVC(probability=True), {'C': [0.001, 0.01, 0.1, 1, 10, 100, 1000], 'gamma': ['scale', 'auto']})\n",
    "]\n",
    "\n",
    "results = []\n",
    "\n",
    "# Definimos el número de folds para la validación cruzada\n",
    "k = 5\n",
    "kf = KFold(n_splits=k)\n",
    "\n",
    "# Para cada modelo, realiza una búsqueda en cuadrícula y calcula la métrica F1\n",
    "for name, model, params in models:\n",
    "    for param_set in ParameterGrid(params):\n",
    "        model.set_params(**param_set)\n",
    "        start = time.time()\n",
    "        scores = []\n",
    "        for train_index, test_index in kf.split(X):\n",
    "            X_train, X_test = X.iloc[train_index], X.iloc[test_index]\n",
    "            y_train, y_test = y.iloc[train_index], y.iloc[test_index]\n",
    "            model.fit(X_train, y_train)\n",
    "            y_pred = model.predict(X_test)\n",
    "            scores.append(f1_score(y_test, y_pred))\n",
    "        end = time.time()\n",
    "        results.append({\n",
    "            'Model': name,\n",
    "            'Hyperparameters': str(param_set),\n",
    "            'Average Score': sum(scores) / len(scores),\n",
    "            'Training Time': end - start\n",
    "        })\n",
    "\n",
    "# Mostramos los resultados en una tabla\n",
    "results_df = pd.DataFrame(results)\n",
    "\n",
    "# Creamos gráficos de dispersión para los puntajes F1-Score y los tiempos de entrenamiento\n",
    "for model in results_df['Model'].unique():\n",
    "    model_df = results_df[results_df['Model'] == model]\n",
    "\n",
    "    # Gráfico de puntajes F1-Score y tiempos de entrenamiento\n",
    "    fig, ax1 = plt.subplots(figsize=(10, 5))\n",
    "\n",
    "    color = 'tab:blue'\n",
    "    ax1.set_xlabel('Hiperparámetros')\n",
    "    ax1.set_ylabel('Puntaje F1', color=color)\n",
    "    ax1.scatter(model_df['Hyperparameters'], model_df['Average Score'], color=color)\n",
    "    ax1.tick_params(axis='y', labelcolor=color)\n",
    "\n",
    "    ax2 = ax1.twinx()\n",
    "    color = 'tab:red'\n",
    "    ax2.set_ylabel('Tiempo de entrenamiento (s)', color=color)\n",
    "    ax2.scatter(model_df['Hyperparameters'], model_df['Training Time'], color=color)\n",
    "    ax2.tick_params(axis='y', labelcolor=color)\n",
    "\n",
    "    fig.tight_layout()\n",
    "    plt.title(f'Puntajes F1 y tiempos de entrenamiento para {model} con diferentes hiperparámetros')\n",
    "    plt.xticks(rotation=90)\n",
    "    plt.show()\n"
   ]
  },
  {
   "cell_type": "markdown",
   "metadata": {},
   "source": [
    "**Seleccioneu una serie d'hyperparametres a provar per cadascun dels models i realitzeu una cerca d'hyperparametres. Hi ha algun model que creieu que podeu descartar de primeres? Perque?** Sí, hemos seleccionado una serie de hiperparámetros para probar en cada modelo. Basándonos en los resultados, parece que el modelo KNN podría ser un candidato para descartar. Aunque KNN es un modelo sólido, en este caso, está obteniendo resultados de puntuación media más bajos en comparación con los otros modelos.\n",
    "\n",
    "\n",
    "**Quin tipus de K-fold heu escollit en la seleccio de models? I en la seleccio de models amb hyperparametres? Com afecta al resultat modificar el numero de k (numero de folds) al resultat?**\n",
    "La elección de K-fold tiene un impacto significativo en los resultados de la validación cruzada. Un valor de k más grande proporcionará una estimación más precisa del rendimiento del modelo, pero también será más costoso computacionalmente. En la búsqueda de hiperparámetros, es común utilizar un valor de k más pequeño para acelerar el proceso.\n",
    "\n",
    "**Quines formes de buscar el millor parametre heu trobat? Són costoses computacionalment parlant? [documentació](https://scikit-learn.org/stable/modules/grid_search.html) Quina heu seleccionat?**\n",
    "Por lo general, si disponemos de recursos limitados, nos vendría mejor un modelo como el KNN, que es más rápido que los demás. Sin embargo, en términos de rendimiento del modelo (por ejemplo, precisión de la clasificación), SVM puede superar a KNN en muchos escenarios.\n",
    "Hemos encontrado dos formas principales para buscar el mejor parámetro en los modelos de aprendizaje automático:\n",
    "Grid Search (Buscar en cuadrícula): Esta estrategia implica definir una parrilla de hiperparámetros y después buscar exhaustivamente a través de la parrilla para encontrar la combinación óptima de hiperparámetros. Esta estrategia puede ser costosa computacionalmente, ya que se realiza una búsqueda exhaustiva a través de todas las posibles combinaciones de hiperparámetros.\n",
    "Random Search (Cerca aleatoria): Esta estrategia implica definir un rango de hiperparámetros y después seleccionar aleatoriamente combinaciones de hiperparámetros de este rango. Esta estrategia puede ser menos costosa computacionalmente, ya que sólo se realiza una búsqueda a través de un número fijo de configuraciones de hiperparámetros.\n",
    "Nosotros hemos escogido el modelo de GridSearch, aunque es mucho más costes computacionalmente hablando, nos da mejores resultados.\n",
    "\n",
    "**Si disposem de recursos limitats (per exemple, un PC durant 1 hora) quin dels métodes creieu que obtindrà millor resultat final?**\n",
    "Por lo general, si disponemos de recursos limitados, nos vendría mejor un modelo como el KNN, que es más rápido que los demás. Sin embargo, en términos de rendimiento del modelo (por ejemplo, precisión de la clasificación), SVM puede superar a KNN en muchos escenarios.\n",
    "Por tanto, si se dispone de un tiempo limitado, se podría considerar el uso de KNN para su eficiencia computacional. Sin embargo, es importante recalcar que los resultados serán, probablemente, peores (como hemos visto en el código de más arriba).\n",
    "\n",
    "**Existeixen altres mètodes de búsqueda més eficients ([scikit-optimize](https://scikit-optimize.github.io/stable/))?**\n",
    "Sí, existen otros métodos de búsqueda de hiperparámetros más eficientes. Uno de ellos es Scikit-Optimize12, o skopt, que es una librería sencilla también implementa varios métodos para la optimización basada en modelos secuenciales. Skopt tiene como objetivo ser accesible y fácil de utilizar en muchos contextos.\n",
    "Además de la búsqueda en cuadrícula y la búsqueda aleatoria, existen otras técnicas de optimización de hiperparámetros que se pueden utilizar:\n",
    "Optimización Bayesiana: Esta técnica utiliza el teorema de Bayes para actualizar la probabilidad de un conjunto de hiperparámetros dados los resultados de las anteriores iteraciones. Esta técnica puede ser más eficiente que la búsqueda en cuadrícula y la búsqueda aleatoria, ya que utiliza información de las iteraciones anteriores para seleccionar el siguiente conjunto de hiperparámetros a probar.\n",
    "Optimización basada en gradientes: Esta técnica utiliza gradientes para actualizar los hiperparámetros en cada iteración. Puede ser más eficiente que la búsqueda en cuadrícula y la búsqueda aleatoria, pero requiere que la función objetivo sea diferenciable respecto a los hiperparámetros."
   ]
  },
  {
   "cell_type": "markdown",
   "metadata": {
    "id": "Hx-3b7v2TwJ3"
   },
   "source": [
    "### 5.Analisi Final (1.5 punt)\n",
    "\n",
    "Un cop seleccionat el millor model amb els millors hiperparamtres, caldra fer un report final amb els resultats obtinguts.\n",
    "\n",
    "Preguntes:\n",
    "* Mostreu les curves ROC/PR (la que hageu escollit en l'apartat 2) i interpreteu els resultats.\n",
    "\n",
    "* Analitzeu en detall les diferents metriques que trobeu adients i comenteu per sobre com podrieu fer servir aquest model en un futur. Aixo es el que es coneix com un cas d'us.\n",
    "\n",
    "* Com creieu que es podria millorar el vostre model?"
   ]
  },
  {
   "cell_type": "markdown",
   "metadata": {
    "collapsed": false
   },
   "source": [
    "## Pregunta 1\n",
    "\n",
    "El mejor modelo que hemos encontrado con los mejores hiperparametros del mismo es el Random Forest con una profundidad de 10: \n",
    "\n",
    "\n",
    "  |    Model        |                Hyperparameters                |  Average Score  |  Training Time  |\n",
    "|:---------------:|:-------------------------------------------:|:---------------:|:---------------:|\n",
    "|  Random Forest  | {'max_depth': 10, 'min_samples_split': 2, ... |     0.768782    |     0.683022    |\n",
    "|  Random Forest  | {'max_depth': 30, 'min_samples_split': 5, ... |     0.766139    |     1.224676    |\n",
    "|  Random Forest  | {'max_depth': 10, 'min_samples_split': 2, ... |     0.764347    |     1.138729    |\n",
    "|  Random Forest  | {'max_depth': 20, 'min_samples_split': 5, ... |     0.761125    |     1.318768    |\n",
    "|  Random Forest  | {'max_depth': None, 'min_samples_split': 5... |     0.761005    |     2.722549    |\n",
    "\n",
    "Pese a que el KNN ha sido el más rápido:\n",
    "\n",
    "|           Model           |    Hyperparameters   |  Average Score  |  Training Time  |\n",
    "|:-------------------------:|:--------------------:|:---------------:|:---------------:|\n",
    "|           KNN             | {'n_neighbors': 5}   |     0.700370    |     0.068495    |\n",
    "|           KNN             | {'n_neighbors': 10}  |     0.701937    |     0.069770    |\n",
    "| Logistic Regression      | {'C': 10}            |     0.717919    |     0.074325    |\n",
    "|           KNN             | {'n_neighbors': 3}   |     0.724194    |     0.085353    |\n",
    "| Logistic Regression      | {'C': 100}           |     0.716597    |     0.094781    |\n",
    "\n",
    "\n"
   ]
  },
  {
   "cell_type": "code",
   "execution_count": null,
   "metadata": {
    "collapsed": false,
    "is_executing": true
   },
   "outputs": [],
   "source": [
    "X = df.drop('Survived', axis=1)\n",
    "y = df['Survived']\n",
    "\n",
    "# Entrenem la regressió logística\n",
    "model = LogisticRegression(max_iter=1000)\n",
    "model.fit(X, y)\n",
    "\n",
    "# Prediccions\n",
    "y_pred = model.predict(X)\n",
    "\n",
    "plot_precision_recall_from_predictions(model, X, y)"
   ]
  },
  {
   "cell_type": "markdown",
   "metadata": {},
   "source": [
    "Esta gráfica es la curva de Precisión-Recall, que la utilizamos para evaluar la calidad de nuestro clasificador.\n",
    "\n",
    "La curva traza la Precisión (eje y) frente al Recall (eje x). La Precisión se refiere a la proporción de identificaciones de verdaderos positivos (supervivientes) que fueron realmente correctas, entre toadas las instancias que se han predicho como positivas, verdaderos positivos y falsos positivos. El Recall, por otro lado, es la proporción de positivos reales (supervivientes) que fueron identificados correctamente, entre todas las instancias positivas reales (verdaderos positivos mas falsos negativos).\n",
    "\n",
    "La curva comienza con una alta precisión y recall, lo que indica que el clasificador es capaz de identificar correctamente un alto porcentaje de los supervivientes/no supervivientes. Sin embargo, a medida que aumenta el recall, la precisión disminuye. Esto nos dice que a medida que el clasificador intenta identificar a más supervivientes, también aumenta la probabilidad de que clasifique incorrectamente a los no supervivientes como supervivientes.\n",
    "\n",
    "El área bajo la curva (AP) es de 0.83. Este nos indica la efectividad general del clasificador. Un valor de 1 sería perfecto, por lo que 0.83 indica que el clasificador está funcionando bien en términos de precisión y recall.\n"
   ]
  },
  {
   "cell_type": "code",
   "execution_count": null,
   "metadata": {
    "collapsed": false,
    "is_executing": true
   },
   "outputs": [],
   "source": [
    "# Anàlisi de resultats\n",
    "report = classification_report(y, y_pred)\n",
    "print(report)"
   ]
  },
  {
   "cell_type": "markdown",
   "metadata": {
    "collapsed": false
   },
   "source": [
    "Con el report podemos ver que las mejores opciones son: la precisión, y la metrica f1-score, como ya hemos explicado anteriormente. "
   ]
  },
  {
   "cell_type": "markdown",
   "metadata": {
    "collapsed": false
   },
   "source": [
    "## Pregunta 2\n",
    "\n",
    "Diferentes métricas, como precisión, recall, F1-score, AUC-ROC, y AUC-PR, proporcionan información sobre el rendimiento del modelo. \n",
    "\n",
    "Para un caso de uso futuro, se podría utilizar el modelo para predecir si una persona sobreviviría o no en una situación similar a la del Titanic. Por ejemplo, en un contexto de seguridad marítima, podríamos utilizar el modelo para evaluar la probabilidad de supervivencia en diferentes escenarios y tomar decisiones en consecuencia.\n",
    "\n",
    "Si lo que buscamos es más la seguridad, podríamos ajustar el modelo para minimizar los falsos negativos (personas que sobreviven pero el modelo las predice como no sobrevivientes)."
   ]
  },
  {
   "cell_type": "markdown",
   "metadata": {
    "collapsed": false
   },
   "source": [
    "## Pregunta 3\n",
    "\n",
    "Para mejorar el modelo, consideramos las siguientes estrategias:\n",
    "\n",
    "- Recopilar más datos históricos relacionados con los pasajeros del Titanic si están disponibles.\n",
    "\n",
    "- Crear nuevas características relevantes para la supervivencia.\n",
    "\n",
    "- Probar diferentes algoritmos de clasificación y ajustar sus hiperparámetros.\n",
    "\n",
    "- Tratar los datos faltantes de manera más efectiva.\n",
    "\n",
    "- Evaluar y abordar el desbalance de los datos de nuestro dataset."
   ]
  }
 ],
 "metadata": {
  "colab": {
   "provenance": []
  },
  "kernelspec": {
   "display_name": "Python 3 (ipykernel)",
   "language": "python",
   "name": "python3"
  },
  "language_info": {
   "codemirror_mode": {
    "name": "ipython",
    "version": 3
   },
   "file_extension": ".py",
   "mimetype": "text/x-python",
   "name": "python",
   "nbconvert_exporter": "python",
   "pygments_lexer": "ipython3",
   "version": "3.9.12"
  }
 },
 "nbformat": 4,
 "nbformat_minor": 1
}
